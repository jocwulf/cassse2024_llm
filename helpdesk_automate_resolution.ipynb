{
 "cells": [
  {
   "cell_type": "markdown",
   "metadata": {},
   "source": [
    "# Test Vector Search and automatic Resolution Generation with ChatGPT 3.5"
   ]
  },
  {
   "cell_type": "code",
   "execution_count": 21,
   "metadata": {},
   "outputs": [
    {
     "data": {
      "text/plain": [
       "True"
      ]
     },
     "execution_count": 21,
     "metadata": {},
     "output_type": "execute_result"
    }
   ],
   "source": [
    "# Set env var OPENAI_API_KEY or load from a .env file:\n",
    "import dotenv\n",
    "import os\n",
    "import pandas as pd\n",
    "from typing import Dict\n",
    "import matplotlib.pyplot as plt\n",
    "import seaborn as sns\n",
    "\n",
    "from langchain_community.vectorstores import Chroma\n",
    "from langchain_openai import OpenAIEmbeddings\n",
    "from langchain.llms import OpenAI\n",
    "from langchain.chains import RetrievalQA\n",
    "from langchain_openai import ChatOpenAI\n",
    "from langchain.chains.combine_documents import create_stuff_documents_chain\n",
    "from langchain_core.prompts import ChatPromptTemplate, MessagesPlaceholder\n",
    "from langchain_core.runnables import RunnablePassthrough\n",
    "from langchain_core.messages import HumanMessage\n",
    "from langchain_community.document_loaders import Docx2txtLoader\n",
    "\n",
    "from sklearn.metrics.pairwise import cosine_similarity\n",
    "\n",
    "\n",
    "dotenv.load_dotenv(\".env\")"
   ]
  },
  {
   "cell_type": "code",
   "execution_count": 2,
   "metadata": {},
   "outputs": [],
   "source": [
    "# Set up the vector store\n",
    "persist_directory='./embeddedincidents'\n",
    "vectordb = Chroma(persist_directory=persist_directory, embedding_function=OpenAIEmbeddings(openai_api_key=os.getenv(\"OPENAI_KEY\"), model=\"text-embedding-3-small\"))"
   ]
  },
  {
   "cell_type": "code",
   "execution_count": 3,
   "metadata": {},
   "outputs": [
    {
     "name": "stdout",
     "output_type": "stream",
     "text": [
      "Number of incidents:  236\n",
      "                                               Title  \\\n",
      "0                               Need Ethernet access   \n",
      "1  Create new account and share the username and ...   \n",
      "2                     FW: Myspace Login Issue-- Ania   \n",
      "3                  Login credetials are not working.   \n",
      "4            New Account is needed for a new joinee.   \n",
      "\n",
      "                                          Resolution  class  \n",
      "0  Please connect the LAN cable to the red port o...     41  \n",
      "1  Go to URL : accountsetup.com, Enter personal d...     35  \n",
      "2  Go to URL : password.reset.com, Enter you logi...     36  \n",
      "3  Go to URL : password.reset.com, Enter you logi...     36  \n",
      "4  Go to URL : accountsetup.com, Enter personal d...     35  \n"
     ]
    }
   ],
   "source": [
    "# read train_tickets.csv int pandas dataframe df\n",
    "df = pd.read_csv('train_tickets.csv', index_col=0)\n",
    "print(\"Number of incidents: \", df.shape[0])\n",
    "print(df.head())"
   ]
  },
  {
   "cell_type": "code",
   "execution_count": 4,
   "metadata": {},
   "outputs": [],
   "source": [
    "# check if vector search with title yields the correct resolution\n",
    "retriever=vectordb.as_retriever(search_kwargs={'k': 3})\n",
    "retrieval_results = pd.DataFrame(columns=['title', 'true_resolution','retrieved_resolutions','match'])\n",
    "# iterate over rows in df\n",
    "for index, row in df.iterrows():\n",
    "    retrieved_content = []\n",
    "    docs = retriever.invoke(row['Title'])\n",
    "    match = False\n",
    "    for doc in docs:\n",
    "        inc = doc.metadata[\"source\"]\n",
    "        content = doc.page_content\n",
    "        retrieved_content.append(content)\n",
    "        # delete \"incident_data\\\\\" from inc\n",
    "        if content== row['Resolution']:\n",
    "            match = True\n",
    "    retrieval_results.loc[len(retrieval_results)] = pd.Series({'title': row['Title'], 'true_resolution': row['Resolution'], 'retrieved_resolutions': retrieved_content, 'match': match})\n",
    "\n",
    "    "
   ]
  },
  {
   "cell_type": "code",
   "execution_count": 5,
   "metadata": {},
   "outputs": [
    {
     "name": "stdout",
     "output_type": "stream",
     "text": [
      "                                               title  \\\n",
      "0                               Need Ethernet access   \n",
      "1  Create new account and share the username and ...   \n",
      "2                     FW: Myspace Login Issue-- Ania   \n",
      "3                  Login credetials are not working.   \n",
      "4            New Account is needed for a new joinee.   \n",
      "5  Request to configure the system to share it am...   \n",
      "6             Needs permission wifi access to laptop   \n",
      "7                            LAN not working in a VM   \n",
      "8                                Wifi access needed.   \n",
      "9                    My Space QA application is down   \n",
      "\n",
      "                                     true_resolution  \\\n",
      "0  Please connect the LAN cable to the red port o...   \n",
      "1  Go to URL : accountsetup.com, Enter personal d...   \n",
      "2  Go to URL : password.reset.com, Enter you logi...   \n",
      "3  Go to URL : password.reset.com, Enter you logi...   \n",
      "4  Go to URL : accountsetup.com, Enter personal d...   \n",
      "5  They won't be able to access other profiles if...   \n",
      "6  First, connect a network cable to your laptop ...   \n",
      "7  changed network settings to Bridged and config...   \n",
      "8  First, connect a network cable to your laptop ...   \n",
      "9  We regret for the inconvinience caused. The is...   \n",
      "\n",
      "                               retrieved_resolutions  match  \n",
      "0  [First, connect a network cable to your laptop...  False  \n",
      "1  [Unlocked the account and new password is sent...  False  \n",
      "2  [They won't be able to access other profiles i...  False  \n",
      "3  [They won't be able to access other profiles i...  False  \n",
      "4  [Unlocked the account and new password is sent...  False  \n",
      "5  [They won't be able to access other profiles i...   True  \n",
      "6  [First, connect a network cable to your laptop...   True  \n",
      "7  [changed network settings to Bridged and confi...   True  \n",
      "8  [Go to network tab from bottom right corner, c...  False  \n",
      "9  [We regret for the inconvinience caused. The i...   True  \n",
      "Match rate:  64.83%\n"
     ]
    }
   ],
   "source": [
    "#  print first 10 rows of retrieval_results\n",
    "print(retrieval_results.head(10))\n",
    "# print match rate, format as percent with two decimal places\n",
    "print(\"Match rate: \", \"{:.2%}\".format(retrieval_results['match'].sum()/retrieval_results.shape[0]))"
   ]
  },
  {
   "cell_type": "code",
   "execution_count": 13,
   "metadata": {},
   "outputs": [],
   "source": [
    "# add match column to df\n",
    "df['match'] = None\n",
    "for index, row in df.iterrows():\n",
    "    current_class = row['class']\n",
    "    # write all resolutions that match the class of the current incident in a list\n",
    "    resolutions = df.loc[df['class'] == current_class]['Resolution'].tolist()\n",
    "    # check if list in column retrieved_resolutions of retrieval_results at index overlaps with resolutions list\n",
    "    match = False\n",
    "    for i in retrieval_results.at[index, 'retrieved_resolutions']:\n",
    "        if i in resolutions:\n",
    "            match = True\n",
    "            # stopp loop if match is found\n",
    "            break\n",
    "    df.at[index, 'match'] = match\n",
    "df.to_csv('train_tickets_with_match.csv')"
   ]
  },
  {
   "cell_type": "code",
   "execution_count": 8,
   "metadata": {},
   "outputs": [],
   "source": [
    "# define prompt template\n",
    "SYSTEM_TEMPLATE = \"\"\"\n",
    "Answer the user question and explain all necessary steps to the solution. Choose just the single most solution option from the solutions proposed in the context. \n",
    "If the context does not contain any relevant information to answer the question, just say “I don’t know”.\n",
    "<context>\n",
    "{context}\n",
    "</context>\n",
    "\"\"\"\n",
    "\n",
    "question_answering_prompt = ChatPromptTemplate.from_messages(\n",
    "    [\n",
    "        (\n",
    "            \"system\",\n",
    "            SYSTEM_TEMPLATE,\n",
    "        ),\n",
    "        MessagesPlaceholder(variable_name=\"messages\"),\n",
    "    ]\n",
    ")\n"
   ]
  },
  {
   "cell_type": "code",
   "execution_count": 9,
   "metadata": {},
   "outputs": [],
   "source": [
    "# iterate over rows in df and get ai_answer\n",
    "df['ai_answer'] = None\n",
    "for index, row in df.iterrows():\n",
    "\n",
    "    chat = ChatOpenAI(model=\"gpt-3.5-turbo-0125\", temperature=0.2, openai_api_key=os.getenv(\"OPENAI_KEY\"))\n",
    "    document_chain = create_stuff_documents_chain(chat, question_answering_prompt)\n",
    "\n",
    "    def parse_retriever_input(params: Dict):\n",
    "        \"\"\"return llm response as string\"\"\"\n",
    "        return params[\"messages\"][-1].content\n",
    "\n",
    "    retrieval_chain = RunnablePassthrough.assign(\n",
    "        context=parse_retriever_input | retriever,\n",
    "    ).assign(\n",
    "        answer=document_chain,\n",
    "    )\n",
    "    ai_answer = retrieval_chain.invoke(\n",
    "        {\n",
    "            \"messages\": [\n",
    "                HumanMessage(content=row['Title'])\n",
    "            ],\n",
    "        }\n",
    "    )\n",
    "    df.at[index, 'ai_answer'] = ai_answer\n",
    "    # save df results to csv every 5 iterations\n",
    "    if index % 5 == 0:\n",
    "        df.to_csv('train_tickets_with_ai_answer.csv')\n",
    "# save final results\n",
    "df.to_csv('train_tickets_with_ai_answer.csv')"
   ]
  },
  {
   "cell_type": "code",
   "execution_count": 10,
   "metadata": {},
   "outputs": [
    {
     "data": {
      "text/html": [
       "<div>\n",
       "<style scoped>\n",
       "    .dataframe tbody tr th:only-of-type {\n",
       "        vertical-align: middle;\n",
       "    }\n",
       "\n",
       "    .dataframe tbody tr th {\n",
       "        vertical-align: top;\n",
       "    }\n",
       "\n",
       "    .dataframe thead th {\n",
       "        text-align: right;\n",
       "    }\n",
       "</style>\n",
       "<table border=\"1\" class=\"dataframe\">\n",
       "  <thead>\n",
       "    <tr style=\"text-align: right;\">\n",
       "      <th></th>\n",
       "      <th>Title</th>\n",
       "      <th>Resolution</th>\n",
       "      <th>class</th>\n",
       "      <th>match</th>\n",
       "      <th>ai_answer</th>\n",
       "    </tr>\n",
       "  </thead>\n",
       "  <tbody>\n",
       "    <tr>\n",
       "      <th>0</th>\n",
       "      <td>Need Ethernet access</td>\n",
       "      <td>Please connect the LAN cable to the red port o...</td>\n",
       "      <td>41</td>\n",
       "      <td>False</td>\n",
       "      <td>{'messages': [content='Need Ethernet access'],...</td>\n",
       "    </tr>\n",
       "    <tr>\n",
       "      <th>1</th>\n",
       "      <td>Create new account and share the username and ...</td>\n",
       "      <td>Go to URL : accountsetup.com, Enter personal d...</td>\n",
       "      <td>35</td>\n",
       "      <td>False</td>\n",
       "      <td>{'messages': [content='Create new account and ...</td>\n",
       "    </tr>\n",
       "    <tr>\n",
       "      <th>2</th>\n",
       "      <td>FW: Myspace Login Issue-- Ania</td>\n",
       "      <td>Go to URL : password.reset.com, Enter you logi...</td>\n",
       "      <td>36</td>\n",
       "      <td>False</td>\n",
       "      <td>{'messages': [content='FW: Myspace Login Issue...</td>\n",
       "    </tr>\n",
       "    <tr>\n",
       "      <th>3</th>\n",
       "      <td>Login credetials are not working.</td>\n",
       "      <td>Go to URL : password.reset.com, Enter you logi...</td>\n",
       "      <td>36</td>\n",
       "      <td>False</td>\n",
       "      <td>{'messages': [content='Login credetials are no...</td>\n",
       "    </tr>\n",
       "    <tr>\n",
       "      <th>4</th>\n",
       "      <td>New Account is needed for a new joinee.</td>\n",
       "      <td>Go to URL : accountsetup.com, Enter personal d...</td>\n",
       "      <td>35</td>\n",
       "      <td>False</td>\n",
       "      <td>{'messages': [content='New Account is needed f...</td>\n",
       "    </tr>\n",
       "  </tbody>\n",
       "</table>\n",
       "</div>"
      ],
      "text/plain": [
       "                                               Title  \\\n",
       "0                               Need Ethernet access   \n",
       "1  Create new account and share the username and ...   \n",
       "2                     FW: Myspace Login Issue-- Ania   \n",
       "3                  Login credetials are not working.   \n",
       "4            New Account is needed for a new joinee.   \n",
       "\n",
       "                                          Resolution  class  match  \\\n",
       "0  Please connect the LAN cable to the red port o...     41  False   \n",
       "1  Go to URL : accountsetup.com, Enter personal d...     35  False   \n",
       "2  Go to URL : password.reset.com, Enter you logi...     36  False   \n",
       "3  Go to URL : password.reset.com, Enter you logi...     36  False   \n",
       "4  Go to URL : accountsetup.com, Enter personal d...     35  False   \n",
       "\n",
       "                                           ai_answer  \n",
       "0  {'messages': [content='Need Ethernet access'],...  \n",
       "1  {'messages': [content='Create new account and ...  \n",
       "2  {'messages': [content='FW: Myspace Login Issue...  \n",
       "3  {'messages': [content='Login credetials are no...  \n",
       "4  {'messages': [content='New Account is needed f...  "
      ]
     },
     "execution_count": 10,
     "metadata": {},
     "output_type": "execute_result"
    }
   ],
   "source": [
    "# print first 10 rows of df\n",
    "df.head()"
   ]
  },
  {
   "cell_type": "code",
   "execution_count": 19,
   "metadata": {},
   "outputs": [],
   "source": [
    "# calculate cosine similarities between Resolution and ai_answer\n",
    "embeddings_model=OpenAIEmbeddings(openai_api_key=os.getenv(\"OPENAI_KEY\"), model=\"text-embedding-3-small\")\n",
    "df['consine_sim_ai_answer'] = None\n",
    "for index, row in df.iterrows():\n",
    "\n",
    "    # calculate embeddings for ai_anwer\n",
    "    embeddings_ai_anwer = embeddings_model.embed_documents(\n",
    "        [\n",
    "            row['ai_answer']['answer']\n",
    "        ]\n",
    "    )\n",
    "\n",
    "    # calculate embeddings for Resolution\n",
    "    embeddings_resolution = embeddings_model.embed_documents(\n",
    "        [\n",
    "            row['Resolution']\n",
    "        ]\n",
    "    )\n",
    "\n",
    "    # calculate cosine similarity\n",
    "    cosine_sim = cosine_similarity([embeddings_ai_anwer[0]], [embeddings_resolution[0]])[0].tolist()[0]\n",
    "    df.at[index, 'consine_sim_ai_answer'] = cosine_sim\n",
    "\n",
    "# save summary_distances to excel\n",
    "df.to_csv('train_tickets_with_ai_answer_and_cosine_sim.csv')"
   ]
  },
  {
   "cell_type": "code",
   "execution_count": 35,
   "metadata": {},
   "outputs": [
    {
     "name": "stdout",
     "output_type": "stream",
     "text": [
      "found_match  False  True \n",
      "match                    \n",
      "False           11     72\n",
      "True            18    135\n",
      "Accuracy:  61.86%\n"
     ]
    }
   ],
   "source": [
    "# calculate confusion matrix and accuracy\n",
    "def find_nonmatch(ai_answer: dict):\n",
    "    return 'I don’t know' not in ai_answer['answer']\n",
    "\n",
    "df['found_match'] = df['ai_answer'].apply(find_nonmatch)\n",
    "\n",
    "# calculate confusion matrix with df['match'] as true values and df['nonmatch'] as predicted values\n",
    "confusion_matrix = pd.crosstab(df['match'], df['found_match'])\n",
    "print(confusion_matrix)\n",
    "# calculate accuracy\n",
    "accuracy = (confusion_matrix.iloc[0,0] + confusion_matrix.iloc[1,1]) / df.shape[0]\n",
    "print(\"Accuracy: \", \"{:.2%}\".format(accuracy))"
   ]
  },
  {
   "cell_type": "code",
   "execution_count": 24,
   "metadata": {},
   "outputs": [
    {
     "data": {
      "image/png": "[encoded data removed]",
      "text/plain": [
       "<Figure size 640x480 with 1 Axes>"
      ]
     },
     "metadata": {},
     "output_type": "display_data"
    }
   ],
   "source": [
    "# visualize the distribution of cosine similarities where match is True df[df['match']==True]['consine_sim_ai_answer'] and df[df['match']==False]['consine_sim_ai_answer'] in different colors\n",
    "sns.histplot(df[df['match']==True]['consine_sim_ai_answer'], color='blue', label='match=True', kde=False)\n",
    "sns.histplot(df[df['match']==False]['consine_sim_ai_answer'], color='red', label='match=False', kde=False)\n",
    "plt.legend()\n",
    "plt.show()\n",
    "\n",
    "\n"
   ]
  }
 ],
 "metadata": {
  "kernelspec": {
   "display_name": "streamlitenv",
   "language": "python",
   "name": "python3"
  },
  "language_info": {
   "codemirror_mode": {
    "name": "ipython",
    "version": 3
   },
   "file_extension": ".py",
   "mimetype": "text/x-python",
   "name": "python",
   "nbconvert_exporter": "python",
   "pygments_lexer": "ipython3",
   "version": "3.11.9"
  }
 },
 "nbformat": 4,
 "nbformat_minor": 2
}

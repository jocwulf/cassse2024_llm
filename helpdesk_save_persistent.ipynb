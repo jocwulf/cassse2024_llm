{
 "cells": [
  {
   "cell_type": "code",
   "execution_count": 24,
   "metadata": {},
   "outputs": [],
   "source": [
    "import os\n",
    "import openai\n",
    "from langchain.document_loaders import TextLoader\n",
    "from langchain.document_loaders import PyPDFLoader\n",
    "from langchain.text_splitter import CharacterTextSplitter\n",
    "from langchain_community.vectorstores import Chroma\n",
    "from langchain_openai import OpenAIEmbeddings\n",
    "from langchain.schema.document import Document\n",
    "\n",
    "from langchain.llms import OpenAI\n",
    "from langchain.chains.question_answering import load_qa_chain\n",
    "import os\n",
    "from dotenv import load_dotenv\n",
    "import pandas as pd\n",
    "load_dotenv(\".env\")\n",
    "openai.api_key = os.getenv(\"OPENAI_KEY\")\n",
    "\n"
   ]
  },
  {
   "cell_type": "code",
   "execution_count": 9,
   "metadata": {},
   "outputs": [
    {
     "name": "stdout",
     "output_type": "stream",
     "text": [
      "Number of incidents:  236\n"
     ]
    },
    {
     "data": {
      "text/html": [
       "<div>\n",
       "<style scoped>\n",
       "    .dataframe tbody tr th:only-of-type {\n",
       "        vertical-align: middle;\n",
       "    }\n",
       "\n",
       "    .dataframe tbody tr th {\n",
       "        vertical-align: top;\n",
       "    }\n",
       "\n",
       "    .dataframe thead th {\n",
       "        text-align: right;\n",
       "    }\n",
       "</style>\n",
       "<table border=\"1\" class=\"dataframe\">\n",
       "  <thead>\n",
       "    <tr style=\"text-align: right;\">\n",
       "      <th></th>\n",
       "      <th>Title</th>\n",
       "      <th>Resolution</th>\n",
       "      <th>class</th>\n",
       "    </tr>\n",
       "  </thead>\n",
       "  <tbody>\n",
       "    <tr>\n",
       "      <th>0</th>\n",
       "      <td>Need Ethernet access</td>\n",
       "      <td>Please connect the LAN cable to the red port o...</td>\n",
       "      <td>41</td>\n",
       "    </tr>\n",
       "    <tr>\n",
       "      <th>1</th>\n",
       "      <td>Create new account and share the username and ...</td>\n",
       "      <td>Go to URL : accountsetup.com, Enter personal d...</td>\n",
       "      <td>35</td>\n",
       "    </tr>\n",
       "    <tr>\n",
       "      <th>2</th>\n",
       "      <td>FW: Myspace Login Issue-- Ania</td>\n",
       "      <td>Go to URL : password.reset.com, Enter you logi...</td>\n",
       "      <td>36</td>\n",
       "    </tr>\n",
       "    <tr>\n",
       "      <th>3</th>\n",
       "      <td>Login credetials are not working.</td>\n",
       "      <td>Go to URL : password.reset.com, Enter you logi...</td>\n",
       "      <td>36</td>\n",
       "    </tr>\n",
       "    <tr>\n",
       "      <th>4</th>\n",
       "      <td>New Account is needed for a new joinee.</td>\n",
       "      <td>Go to URL : accountsetup.com, Enter personal d...</td>\n",
       "      <td>35</td>\n",
       "    </tr>\n",
       "  </tbody>\n",
       "</table>\n",
       "</div>"
      ],
      "text/plain": [
       "                                               Title  \\\n",
       "0                               Need Ethernet access   \n",
       "1  Create new account and share the username and ...   \n",
       "2                     FW: Myspace Login Issue-- Ania   \n",
       "3                  Login credetials are not working.   \n",
       "4            New Account is needed for a new joinee.   \n",
       "\n",
       "                                          Resolution  class  \n",
       "0  Please connect the LAN cable to the red port o...     41  \n",
       "1  Go to URL : accountsetup.com, Enter personal d...     35  \n",
       "2  Go to URL : password.reset.com, Enter you logi...     36  \n",
       "3  Go to URL : password.reset.com, Enter you logi...     36  \n",
       "4  Go to URL : accountsetup.com, Enter personal d...     35  "
      ]
     },
     "execution_count": 9,
     "metadata": {},
     "output_type": "execute_result"
    }
   ],
   "source": [
    "# read train_tickets.csv int pandas dataframe df\n",
    "df = pd.read_csv('train_tickets.csv', index_col=0)\n",
    "print(\"Number of incidents: \", df.shape[0])\n",
    "print(df.head())"
   ]
  },
  {
   "cell_type": "code",
   "execution_count": 27,
   "metadata": {},
   "outputs": [],
   "source": [
    "# create a list of langchain Documents from the dataframe column Resolution\n",
    "documents = []\n",
    "for index,row in df.iterrows():\n",
    "    doc =  Document(page_content=row[\"Resolution\"], metadata={\"source\": index})\n",
    "    documents.append(doc)\n"
   ]
  },
  {
   "cell_type": "code",
   "execution_count": 30,
   "metadata": {},
   "outputs": [
    {
     "name": "stdout",
     "output_type": "stream",
     "text": [
      "page_content='Please connect the LAN cable to the red port on your workstation. Please write back to IT if you are unable to get the IP addresss' metadata={'source': 0}\n"
     ]
    }
   ],
   "source": [
    "# print the first document for inspection\n",
    "print(documents[0])"
   ]
  },
  {
   "cell_type": "code",
   "execution_count": 29,
   "metadata": {},
   "outputs": [
    {
     "name": "stderr",
     "output_type": "stream",
     "text": [
      "c:\\Users\\wulj\\OneDrive - ZHAW\\Softwarecode\\CASSSE_LLM-RAG\\cassse\\Lib\\site-packages\\langchain_core\\_api\\deprecation.py:119: LangChainDeprecationWarning: Since Chroma 0.4.x the manual persistence method is no longer supported as docs are automatically persisted.\n",
      "  warn_deprecated(\n"
     ]
    }
   ],
   "source": [
    "# create vectordb\n",
    "vectordb = Chroma.from_documents(\n",
    "    documents,\n",
    "    embedding=OpenAIEmbeddings(openai_api_key=os.getenv(\"OPENAI_KEY\"), model=\"text-embedding-3-small\"),\n",
    "    persist_directory='./embeddedincidents'\n",
    ")\n",
    "vectordb.persist()"
   ]
  }
 ],
 "metadata": {
  "kernelspec": {
   "display_name": "streamlitenv",
   "language": "python",
   "name": "python3"
  },
  "language_info": {
   "codemirror_mode": {
    "name": "ipython",
    "version": 3
   },
   "file_extension": ".py",
   "mimetype": "text/x-python",
   "name": "python",
   "nbconvert_exporter": "python",
   "pygments_lexer": "ipython3",
   "version": "3.11.9"
  }
 },
 "nbformat": 4,
 "nbformat_minor": 2
}
